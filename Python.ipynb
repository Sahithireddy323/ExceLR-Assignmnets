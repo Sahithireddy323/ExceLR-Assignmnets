{
 "cells": [
  {
   "cell_type": "code",
   "execution_count": 173,
   "id": "609fdbb8-8941-496a-a571-0b56745a4192",
   "metadata": {},
   "outputs": [
    {
     "name": "stdin",
     "output_type": "stream",
     "text": [
      "Enter a number:  7\n"
     ]
    },
    {
     "name": "stdout",
     "output_type": "stream",
     "text": [
      "Prime number\n"
     ]
    }
   ],
   "source": [
    "#Exercise 1: Prime Numbers\n",
    "num = int(input(\"Enter a number: \"))\n",
    "\n",
    "if num < 2:\n",
    "    print(\"Not a prime number\")\n",
    "else:\n",
    "    for i in range(2, int(num**0.5) + 1):\n",
    "        if num % i == 0:\n",
    "            print(\"Not a prime number\")\n",
    "            break\n",
    "    else:\n",
    "        print(\"Prime number\")"
   ]
  },
  {
   "cell_type": "code",
   "execution_count": 175,
   "id": "0a987b28-d996-4b80-8219-cae817d1aca5",
   "metadata": {},
   "outputs": [
    {
     "name": "stdout",
     "output_type": "stream",
     "text": [
      "What is 2 * 6?\n"
     ]
    },
    {
     "name": "stdin",
     "output_type": "stream",
     "text": [
      "Your answer:  12\n"
     ]
    },
    {
     "name": "stdout",
     "output_type": "stream",
     "text": [
      "True\n"
     ]
    }
   ],
   "source": [
    "#Exercise 2: Product of Random Numbers\n",
    "import random\n",
    "\n",
    "# Generating two random numbers\n",
    "num1 = random.randint(1, 10)\n",
    "num2 = random.randint(1, 10)\n",
    "\n",
    "print(f\"What is {num1} * {num2}?\")\n",
    "user_answer = int(input(\"Your answer: \"))\n",
    "\n",
    "# Check the answer and print result\n",
    "correct_answer = num1 * num2\n",
    "print(user_answer == correct_answer)"
   ]
  },
  {
   "cell_type": "code",
   "execution_count": 177,
   "id": "7377bcbe-84c4-4927-9955-cf991bc65dc4",
   "metadata": {},
   "outputs": [
    {
     "name": "stdin",
     "output_type": "stream",
     "text": [
      "even or odd?  even\n"
     ]
    },
    {
     "name": "stdout",
     "output_type": "stream",
     "text": [
      "The square of  100 is 10000\n",
      "The square of  102 is 10404\n",
      "The square of  104 is 10816\n",
      "The square of  106 is 11236\n",
      "The square of  108 is 11664\n",
      "The square of  110 is 12100\n",
      "The square of  112 is 12544\n",
      "The square of  114 is 12996\n",
      "The square of  116 is 13456\n",
      "The square of  118 is 13924\n",
      "The square of  120 is 14400\n",
      "The square of  122 is 14884\n",
      "The square of  124 is 15376\n",
      "The square of  126 is 15876\n",
      "The square of  128 is 16384\n",
      "The square of  130 is 16900\n",
      "The square of  132 is 17424\n",
      "The square of  134 is 17956\n",
      "The square of  136 is 18496\n",
      "The square of  138 is 19044\n",
      "The square of  140 is 19600\n",
      "The square of  142 is 20164\n",
      "The square of  144 is 20736\n",
      "The square of  146 is 21316\n",
      "The square of  148 is 21904\n",
      "The square of  150 is 22500\n",
      "The square of  152 is 23104\n",
      "The square of  154 is 23716\n",
      "The square of  156 is 24336\n",
      "The square of  158 is 24964\n",
      "The square of  160 is 25600\n",
      "The square of  162 is 26244\n",
      "The square of  164 is 26896\n",
      "The square of  166 is 27556\n",
      "The square of  168 is 28224\n",
      "The square of  170 is 28900\n",
      "The square of  172 is 29584\n",
      "The square of  174 is 30276\n",
      "The square of  176 is 30976\n",
      "The square of  178 is 31684\n",
      "The square of  180 is 32400\n",
      "The square of  182 is 33124\n",
      "The square of  184 is 33856\n",
      "The square of  186 is 34596\n",
      "The square of  188 is 35344\n",
      "The square of  190 is 36100\n",
      "The square of  192 is 36864\n",
      "The square of  194 is 37636\n",
      "The square of  196 is 38416\n",
      "The square of  198 is 39204\n"
     ]
    }
   ],
   "source": [
    "#Exercise 3: Squares of Even/Odd Numberswithin the range of 100 to 200. \n",
    "choice = input(\"even or odd? \")\n",
    "\n",
    "for i in range(100, 200):\n",
    "    if choice == \"even\" and i % 2 == 0:\n",
    "        print(\"The square of \",i, \"is\", i**2)\n",
    "    elif choice == \"odd\" and i % 2 != 0:\n",
    "        print(\"The square of \",i,\"is\",i**2)"
   ]
  },
  {
   "cell_type": "code",
   "execution_count": 179,
   "id": "30489eda-2ff3-4baa-a371-5447b0c4d3e3",
   "metadata": {},
   "outputs": [
    {
     "name": "stdout",
     "output_type": "stream",
     "text": [
      "This 1\n",
      "is 1\n",
      "a 1\n",
      "Classroom 1\n",
      "of 1\n",
      "ExceLR. 1\n"
     ]
    }
   ],
   "source": [
    "#Exercise 4: Word counter\n",
    "text=\"This is a Classroom of ExceLR.\"\n",
    "words = text.split()\n",
    "for words in words:\n",
    "    print(words,words.count(words))"
   ]
  },
  {
   "cell_type": "code",
   "execution_count": 181,
   "id": "35ffe25e-59a2-4882-9acd-7ca26d11699a",
   "metadata": {},
   "outputs": [
    {
     "name": "stdin",
     "output_type": "stream",
     "text": [
      "Enter a word or number:  racecar\n"
     ]
    },
    {
     "name": "stdout",
     "output_type": "stream",
     "text": [
      "Palindrome\n"
     ]
    }
   ],
   "source": [
    "#Exercise 5: Check for Palindrome\n",
    "text = input(\"Enter a word or number: \")\n",
    "\n",
    "if text == text[::-1]:\n",
    "    print(\"Palindrome\")\n",
    "else:\n",
    "    print(\"Not a palindrome\")"
   ]
  },
  {
   "cell_type": "code",
   "execution_count": null,
   "id": "806680fb-cfb7-44a6-bad3-7786ee2e61f9",
   "metadata": {},
   "outputs": [],
   "source": []
  }
 ],
 "metadata": {
  "kernelspec": {
   "display_name": "Python [conda env:base] *",
   "language": "python",
   "name": "conda-base-py"
  },
  "language_info": {
   "codemirror_mode": {
    "name": "ipython",
    "version": 3
   },
   "file_extension": ".py",
   "mimetype": "text/x-python",
   "name": "python",
   "nbconvert_exporter": "python",
   "pygments_lexer": "ipython3",
   "version": "3.12.7"
  }
 },
 "nbformat": 4,
 "nbformat_minor": 5
}
