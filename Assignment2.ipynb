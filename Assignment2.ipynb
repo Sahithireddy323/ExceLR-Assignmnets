{
 "cells": [
  {
   "cell_type": "code",
   "execution_count": 98,
   "id": "5e7846b2-ca41-47e6-8a14-75c8509b9d44",
   "metadata": {},
   "outputs": [
    {
     "data": {
      "text/plain": [
       "<FloatingArray>\n",
       "[1.13, 1.55, 1.43, 0.92, 1.25, 1.36, 1.32, 0.85, 1.07, 1.48,  1.2, 1.33, 1.18,\n",
       " 1.22, 1.29]\n",
       "Length: 15, dtype: Float64"
      ]
     },
     "execution_count": 98,
     "metadata": {},
     "output_type": "execute_result"
    }
   ],
   "source": [
    "import pandas as pd  #checking the sample mean is unknown\n",
    "import numpy as np\n",
    "data=pd.array([1.13, 1.55, 1.43, 0.92, 1.25, 1.36, 1.32, 0.85, 1.07, 1.48, 1.20, 1.33, 1.18, 1.22, 1.29])\n",
    "data"
   ]
  },
  {
   "cell_type": "code",
   "execution_count": 134,
   "id": "d4422863-ed91-4ec0-84a0-ec539d8478bd",
   "metadata": {},
   "outputs": [
    {
     "data": {
      "text/plain": [
       "15"
      ]
     },
     "execution_count": 134,
     "metadata": {},
     "output_type": "execute_result"
    }
   ],
   "source": [
    "datalen=len(data) #checking the sample size\n",
    "datalen"
   ]
  },
  {
   "cell_type": "code",
   "execution_count": 136,
   "id": "79dfeadb-a02a-4848-be8c-b4311ae6a550",
   "metadata": {},
   "outputs": [
    {
     "data": {
      "text/plain": [
       "1.2386666666666666"
      ]
     },
     "execution_count": 136,
     "metadata": {},
     "output_type": "execute_result"
    }
   ],
   "source": [
    "data.mean() #sample Mean"
   ]
  },
  {
   "cell_type": "code",
   "execution_count": 138,
   "id": "39a1cb74-da36-423b-bf1f-d1bba8568831",
   "metadata": {},
   "outputs": [],
   "source": [
    "CI = 0.99     #t_critical value\n",
    "alpha=1+CI \n",
    "datalen = 15\n",
    "df = datalen-1  \n",
    "t_distribution = stats.t.ppf(alpha/2,datalen-1)"
   ]
  },
  {
   "cell_type": "code",
   "execution_count": 140,
   "id": "29a353ee-70bd-4c2e-98fd-de56d47e18e3",
   "metadata": {},
   "outputs": [],
   "source": [
    "s=data.std(ddof=1) #sample standard deviation"
   ]
  },
  {
   "cell_type": "code",
   "execution_count": 142,
   "id": "9fe9daa8-2000-4e21-91ee-31cbc4961036",
   "metadata": {},
   "outputs": [],
   "source": [
    "epsilon=t_distribution*s/np.sqrt(datalen+1) #margin of error  E=z*s/root(n)"
   ]
  },
  {
   "cell_type": "code",
   "execution_count": 144,
   "id": "587ea10d-8221-4204-acaf-56924f540f90",
   "metadata": {},
   "outputs": [],
   "source": [
    "mean=1.2386666666666666    #confidence interval\n",
    "confidenceinterval=(mean+epsilon,mean-epsilon)"
   ]
  },
  {
   "cell_type": "code",
   "execution_count": 146,
   "id": "d8556e1e-3ce4-401c-b6f9-b75f0a4b6716",
   "metadata": {},
   "outputs": [
    {
     "name": "stdout",
     "output_type": "stream",
     "text": [
      "Mean of the sample: 1.2386666666666666\n",
      "t_distribution value: 2.976842734370834\n",
      "Standard deviation: 0.19316412956959936\n",
      "Margin of error: 0.14375480891258205\n",
      "confidenceinterval: (1.3824214755792485, 1.0949118577540846)\n",
      "99% confidence interval for the mean durability of the print-heads is: [1.10, 1.40] (in millions of characters).\n",
      "This means we are 99% confident that the true population mean lies within this interval.\n"
     ]
    }
   ],
   "source": [
    "print(\"Mean of the sample:\", mean)\n",
    "print(\"t_distribution value:\",t_distribution)\n",
    "print(\"Standard deviation:\", s)\n",
    "print(\"Margin of error:\",epsilon)\n",
    "print(\"confidenceinterval:\",confidenceinterval)\n",
    "print(\"99% confidence interval for the mean durability of the print-heads is: [1.10, 1.40] (in millions of characters).\")\n",
    "print(\"This means we are 99% confident that the true population mean lies within this interval.\")"
   ]
  },
  {
   "cell_type": "code",
   "execution_count": 149,
   "id": "9bedba8c-d378-460e-8651-76abaffaef16",
   "metadata": {},
   "outputs": [],
   "source": [
    "from scipy.stats import norm\n",
    "n = len(data) # set the confidence interval\n",
    "sigma = 0.2  \n",
    "confidence_level = 0.99\n",
    "alpha = 1 - confidence_level"
   ]
  },
  {
   "cell_type": "code",
   "execution_count": 151,
   "id": "7d4c4e5a-97d0-4d83-8fc9-6f445749f33f",
   "metadata": {},
   "outputs": [],
   "source": [
    "z_critical = norm.ppf(1 - alpha / 2) #z_critical_value"
   ]
  },
  {
   "cell_type": "code",
   "execution_count": 153,
   "id": "e5b800d6-9da2-48f2-8561-2a213fe8d21d",
   "metadata": {},
   "outputs": [],
   "source": [
    "standard_error = sigma / np.sqrt(n) #standard deviation"
   ]
  },
  {
   "cell_type": "code",
   "execution_count": 155,
   "id": "87c16a73-4c2f-4d20-95ab-d3333a412dc6",
   "metadata": {},
   "outputs": [],
   "source": [
    "margin_of_error = z_critical * standard_error #margin of error e=z*s/root(n)"
   ]
  },
  {
   "cell_type": "code",
   "execution_count": 157,
   "id": "78da6d10-eb9e-4232-aa14-ae86f1c8599d",
   "metadata": {},
   "outputs": [],
   "source": [
    "confidence_Interval=(mean-margin_of_error,mean+margin_of_error) #confidence interval"
   ]
  },
  {
   "cell_type": "code",
   "execution_count": 159,
   "id": "7dc5d0c2-12c9-4ab8-a44d-753c6c740700",
   "metadata": {},
   "outputs": [
    {
     "name": "stdout",
     "output_type": "stream",
     "text": [
      "population mean= 1.2386666666666666\n",
      "The confidence interval is 99%\n",
      "The crital value when distributed on two side 2.5758293035489004\n",
      "Population Standard Deviation 0.2\n",
      "margin of error 0.13301525327090588\n",
      "we are 99% sure that the mean value lies in between this confidence interval\n",
      "confidence interval for the mean number characters printed before failure . (1.1056514133957607, 1.3716819199375725)\n"
     ]
    }
   ],
   "source": [
    "print(\"population mean=\",mean)\n",
    "print(\"The confidence interval is 99%\")\n",
    "print(\"The crital value when distributed on two side\",z_critical)\n",
    "print(\"Population Standard Deviation\",sigma)\n",
    "print(\"margin of error\",margin_of_error)\n",
    "print(\"we are 99% sure that the mean value lies in between this confidence interval\")\n",
    "print('confidence interval for the mean number characters printed before failure .',confidence_Interval)"
   ]
  },
  {
   "cell_type": "code",
   "execution_count": 161,
   "id": "72d84d15-29fa-4c1a-9278-6fabfcbe243b",
   "metadata": {},
   "outputs": [
    {
     "name": "stdout",
     "output_type": "stream",
     "text": [
      "ci_lower value : 1.1056514133957607\n",
      "ci_upper value : 1.3716819199375725\n"
     ]
    }
   ],
   "source": [
    "mean = 1.2386666666666666\n",
    "ci_lower = mean - margin_of_error\n",
    "ci_upper = mean + margin_of_error\n",
    "print (\"ci_lower value :\",ci_lower )\n",
    "print(\"ci_upper value :\",ci_upper)"
   ]
  }
 ],
 "metadata": {
  "kernelspec": {
   "display_name": "Python [conda env:base] *",
   "language": "python",
   "name": "conda-base-py"
  },
  "language_info": {
   "codemirror_mode": {
    "name": "ipython",
    "version": 3
   },
   "file_extension": ".py",
   "mimetype": "text/x-python",
   "name": "python",
   "nbconvert_exporter": "python",
   "pygments_lexer": "ipython3",
   "version": "3.12.7"
  }
 },
 "nbformat": 4,
 "nbformat_minor": 5
}
