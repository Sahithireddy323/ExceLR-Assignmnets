{
 "cells": [
  {
   "cell_type": "code",
   "execution_count": 1,
   "id": "b61bf334-1a7a-4807-a24a-08f2b0910a5c",
   "metadata": {},
   "outputs": [],
   "source": [
    "#==========================================HYPOTHESIS-TESTING========================================================\n",
    "from scipy.stats import norm,t\n",
    "from math import sqrt\n",
    "import numpy as np\n",
    "import pandas as pd"
   ]
  },
  {
   "cell_type": "code",
   "execution_count": 5,
   "id": "8f73c944-b306-4ffe-a602-452c8ed74aef",
   "metadata": {},
   "outputs": [
    {
     "name": "stdout",
     "output_type": "stream",
     "text": [
      "number of sample=  25  'and degree of freedom'=  24\n"
     ]
    }
   ],
   "source": [
    "x=3050 \n",
    "u= 4000\n",
    "s=125\n",
    "n=25\n",
    "dof=n-1\n",
    "print(f\"number of sample=  {n}  'and degree of freedom'=  {dof}\")"
   ]
  },
  {
   "cell_type": "code",
   "execution_count": 7,
   "id": "1228fb60-3c4b-4e5d-88da-3cc7f5eabcdf",
   "metadata": {},
   "outputs": [
    {
     "name": "stdout",
     "output_type": "stream",
     "text": [
      "the critical value on one side = 1.7108820799094275\n",
      "\n",
      "ttest value using t = -38.0\n",
      "\n",
      "H0 is rejected and H1 is accpeted.\n"
     ]
    }
   ],
   "source": [
    "alpha = 0.05\n",
    "tcritical=t.ppf(1-alpha,dof)\n",
    "print(\"the critical value on one side =\",tcritical)\n",
    "print()\n",
    "ttest=(x-u)/(s/sqrt(n)) \n",
    "print(\"ttest value using t =\",ttest)\n",
    "print()\n",
    "\n",
    "if ttest>tcritical:\n",
    "    print(\"H1 is rejected and H0 is accpeted.\")\n",
    "else:\n",
    "    print(\"H0 is rejected and H1 is accpeted.\")"
   ]
  },
  {
   "cell_type": "code",
   "execution_count": 9,
   "id": "df990b35-a7a4-420c-98af-156b6ad1de25",
   "metadata": {},
   "outputs": [
    {
     "name": "stdout",
     "output_type": "stream",
     "text": [
      "p-value:2.9607810808177907e-23\n",
      "H0 is rejected and H1 is accpeted.\n"
     ]
    }
   ],
   "source": [
    "# concludind using p_value\n",
    "t_test = -38\n",
    "dof = 24\n",
    "p_value = t.cdf(t_test,df=dof)\n",
    "print(f\"p-value:{p_value}\")\n",
    "\n",
    "if p_value>tcritical:\n",
    "     print(\"H1 is rejected and H0 is accpeted.\")\n",
    "else:\n",
    "    print(\"H0 is rejected and H1 is accpeted.\")"
   ]
  },
  {
   "cell_type": "code",
   "execution_count": 11,
   "id": "038495bf-975d-49be-83ca-323617cf013b",
   "metadata": {},
   "outputs": [
    {
     "name": "stdout",
     "output_type": "stream",
     "text": [
      "the z_critical value on one side = 1.64\n",
      "\n",
      "ttest value -38.0\n",
      "\n",
      "H0 is accepted and H1 is rejected.\n"
     ]
    }
   ],
   "source": [
    "alpha = 0.05\n",
    "zcritical=1.64\n",
    "print(\"the z_critical value on one side =\",zcritical)\n",
    "print()\n",
    "ttest=(x-u)/(s/sqrt(n)) \n",
    "print(\"ttest value\",ttest)\n",
    "print()\n",
    "\n",
    "if ttest>zcritical:\n",
    "    print(\"H1 is accepted and H0 is rejected.\")\n",
    "else:\n",
    "    print(\"H0 is accepted and H1 is rejected.\")"
   ]
  },
  {
   "cell_type": "code",
   "execution_count": 13,
   "id": "829af362-6b1d-48ca-ad79-ff56a4b03d67",
   "metadata": {},
   "outputs": [],
   "source": [
    "#==============================CHI-SQUARE-TESTING=================================\n",
    "import pandas as pd\n",
    "from scipy.stats import chi2_contingency\n",
    "data = [[50, 70], [80, 100], [60, 90], [30, 50], [20, 50]] #creatind a list with given values\n",
    "df=pd.DataFrame(data)\n",
    "df.columns=[\"Smart_Thermostat\", \"Smart_Light\"]   #here in the place of index values we are write the rating\n",
    "df.index=[\"Very Satisfied\", \"Satisfied\", \"Neutral\", \"Unsatisfied\", \"Very Unsatisfied\"]"
   ]
  },
  {
   "cell_type": "code",
   "execution_count": 15,
   "id": "db252b32-5ab5-42b4-bfc1-03cec92f1119",
   "metadata": {},
   "outputs": [
    {
     "name": "stderr",
     "output_type": "stream",
     "text": [
      "C:\\Users\\nimma\\anaconda3\\Lib\\site-packages\\researchpy\\crosstab.py:146: FutureWarning: Setting an item of incompatible dtype is deprecated and will raise an error in a future version of pandas. Value 'Pearson Chi-square ( 12.0) = ' has dtype incompatible with float64, please explicitly cast to a compatible dtype first.\n",
      "  table.iloc[0,0] = f\"Pearson Chi-square ({dof: .1f}) = \"\n"
     ]
    },
    {
     "data": {
      "text/html": [
       "<div>\n",
       "<style scoped>\n",
       "    .dataframe tbody tr th:only-of-type {\n",
       "        vertical-align: middle;\n",
       "    }\n",
       "\n",
       "    .dataframe tbody tr th {\n",
       "        vertical-align: top;\n",
       "    }\n",
       "\n",
       "    .dataframe thead th {\n",
       "        text-align: right;\n",
       "    }\n",
       "</style>\n",
       "<table border=\"1\" class=\"dataframe\">\n",
       "  <thead>\n",
       "    <tr style=\"text-align: right;\">\n",
       "      <th></th>\n",
       "      <th>Chi-square test</th>\n",
       "      <th>results</th>\n",
       "    </tr>\n",
       "  </thead>\n",
       "  <tbody>\n",
       "    <tr>\n",
       "      <th>0</th>\n",
       "      <td>Pearson Chi-square ( 12.0) =</td>\n",
       "      <td>15.0000</td>\n",
       "    </tr>\n",
       "    <tr>\n",
       "      <th>1</th>\n",
       "      <td>p-value =</td>\n",
       "      <td>0.2414</td>\n",
       "    </tr>\n",
       "    <tr>\n",
       "      <th>2</th>\n",
       "      <td>Cramer's V =</td>\n",
       "      <td>1.0000</td>\n",
       "    </tr>\n",
       "  </tbody>\n",
       "</table>\n",
       "</div>"
      ],
      "text/plain": [
       "                 Chi-square test  results\n",
       "0  Pearson Chi-square ( 12.0) =   15.0000\n",
       "1                     p-value =    0.2414\n",
       "2                  Cramer's V =    1.0000"
      ]
     },
     "execution_count": 15,
     "metadata": {},
     "output_type": "execute_result"
    }
   ],
   "source": [
    "import researchpy as rp\n",
    "table,results = rp.crosstab(df[\"Smart_Thermostat\"], df[\"Smart_Light\"],test='chi-square')\n",
    "results"
   ]
  },
  {
   "cell_type": "code",
   "execution_count": 19,
   "id": "bebcd0c4-9cd8-4fe3-a266-ed8dd68cc645",
   "metadata": {},
   "outputs": [
    {
     "name": "stdout",
     "output_type": "stream",
     "text": [
      "H1 is rejected and H0 is accpeted.\n"
     ]
    }
   ],
   "source": [
    "pvalue = 0.2414\n",
    "alpha = 0.05\n",
    "\n",
    "if pvalue < alpha:\n",
    "   print(\"H0 is rejected and H1 is accpeted.\")\n",
    "else:\n",
    "    print(\"H1 is rejected and H0 is accpeted.\")\n",
    "   "
   ]
  }
 ],
 "metadata": {
  "kernelspec": {
   "display_name": "Python [conda env:base] *",
   "language": "python",
   "name": "conda-base-py"
  },
  "language_info": {
   "codemirror_mode": {
    "name": "ipython",
    "version": 3
   },
   "file_extension": ".py",
   "mimetype": "text/x-python",
   "name": "python",
   "nbconvert_exporter": "python",
   "pygments_lexer": "ipython3",
   "version": "3.12.7"
  }
 },
 "nbformat": 4,
 "nbformat_minor": 5
}
