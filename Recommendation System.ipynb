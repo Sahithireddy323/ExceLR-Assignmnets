{
 "cells": [
  {
   "cell_type": "code",
   "execution_count": 7,
   "id": "60fc5535-9a44-4324-8580-79544ee47113",
   "metadata": {},
   "outputs": [
    {
     "data": {
      "text/html": [
       "<div>\n",
       "<style scoped>\n",
       "    .dataframe tbody tr th:only-of-type {\n",
       "        vertical-align: middle;\n",
       "    }\n",
       "\n",
       "    .dataframe tbody tr th {\n",
       "        vertical-align: top;\n",
       "    }\n",
       "\n",
       "    .dataframe thead th {\n",
       "        text-align: right;\n",
       "    }\n",
       "</style>\n",
       "<table border=\"1\" class=\"dataframe\">\n",
       "  <thead>\n",
       "    <tr style=\"text-align: right;\">\n",
       "      <th></th>\n",
       "      <th>anime_id</th>\n",
       "      <th>name</th>\n",
       "      <th>genre</th>\n",
       "      <th>type</th>\n",
       "      <th>episodes</th>\n",
       "      <th>rating</th>\n",
       "      <th>members</th>\n",
       "    </tr>\n",
       "  </thead>\n",
       "  <tbody>\n",
       "    <tr>\n",
       "      <th>0</th>\n",
       "      <td>32281</td>\n",
       "      <td>Kimi no Na wa.</td>\n",
       "      <td>Drama, Romance, School, Supernatural</td>\n",
       "      <td>Movie</td>\n",
       "      <td>1</td>\n",
       "      <td>9.37</td>\n",
       "      <td>200630</td>\n",
       "    </tr>\n",
       "    <tr>\n",
       "      <th>1</th>\n",
       "      <td>5114</td>\n",
       "      <td>Fullmetal Alchemist: Brotherhood</td>\n",
       "      <td>Action, Adventure, Drama, Fantasy, Magic, Mili...</td>\n",
       "      <td>TV</td>\n",
       "      <td>64</td>\n",
       "      <td>9.26</td>\n",
       "      <td>793665</td>\n",
       "    </tr>\n",
       "    <tr>\n",
       "      <th>2</th>\n",
       "      <td>28977</td>\n",
       "      <td>Gintama°</td>\n",
       "      <td>Action, Comedy, Historical, Parody, Samurai, S...</td>\n",
       "      <td>TV</td>\n",
       "      <td>51</td>\n",
       "      <td>9.25</td>\n",
       "      <td>114262</td>\n",
       "    </tr>\n",
       "    <tr>\n",
       "      <th>3</th>\n",
       "      <td>9253</td>\n",
       "      <td>Steins;Gate</td>\n",
       "      <td>Sci-Fi, Thriller</td>\n",
       "      <td>TV</td>\n",
       "      <td>24</td>\n",
       "      <td>9.17</td>\n",
       "      <td>673572</td>\n",
       "    </tr>\n",
       "    <tr>\n",
       "      <th>4</th>\n",
       "      <td>9969</td>\n",
       "      <td>Gintama&amp;#039;</td>\n",
       "      <td>Action, Comedy, Historical, Parody, Samurai, S...</td>\n",
       "      <td>TV</td>\n",
       "      <td>51</td>\n",
       "      <td>9.16</td>\n",
       "      <td>151266</td>\n",
       "    </tr>\n",
       "    <tr>\n",
       "      <th>...</th>\n",
       "      <td>...</td>\n",
       "      <td>...</td>\n",
       "      <td>...</td>\n",
       "      <td>...</td>\n",
       "      <td>...</td>\n",
       "      <td>...</td>\n",
       "      <td>...</td>\n",
       "    </tr>\n",
       "    <tr>\n",
       "      <th>12289</th>\n",
       "      <td>9316</td>\n",
       "      <td>Toushindai My Lover: Minami tai Mecha-Minami</td>\n",
       "      <td>Hentai</td>\n",
       "      <td>OVA</td>\n",
       "      <td>1</td>\n",
       "      <td>4.15</td>\n",
       "      <td>211</td>\n",
       "    </tr>\n",
       "    <tr>\n",
       "      <th>12290</th>\n",
       "      <td>5543</td>\n",
       "      <td>Under World</td>\n",
       "      <td>Hentai</td>\n",
       "      <td>OVA</td>\n",
       "      <td>1</td>\n",
       "      <td>4.28</td>\n",
       "      <td>183</td>\n",
       "    </tr>\n",
       "    <tr>\n",
       "      <th>12291</th>\n",
       "      <td>5621</td>\n",
       "      <td>Violence Gekiga David no Hoshi</td>\n",
       "      <td>Hentai</td>\n",
       "      <td>OVA</td>\n",
       "      <td>4</td>\n",
       "      <td>4.88</td>\n",
       "      <td>219</td>\n",
       "    </tr>\n",
       "    <tr>\n",
       "      <th>12292</th>\n",
       "      <td>6133</td>\n",
       "      <td>Violence Gekiga Shin David no Hoshi: Inma Dens...</td>\n",
       "      <td>Hentai</td>\n",
       "      <td>OVA</td>\n",
       "      <td>1</td>\n",
       "      <td>4.98</td>\n",
       "      <td>175</td>\n",
       "    </tr>\n",
       "    <tr>\n",
       "      <th>12293</th>\n",
       "      <td>26081</td>\n",
       "      <td>Yasuji no Pornorama: Yacchimae!!</td>\n",
       "      <td>Hentai</td>\n",
       "      <td>Movie</td>\n",
       "      <td>1</td>\n",
       "      <td>5.46</td>\n",
       "      <td>142</td>\n",
       "    </tr>\n",
       "  </tbody>\n",
       "</table>\n",
       "<p>12294 rows × 7 columns</p>\n",
       "</div>"
      ],
      "text/plain": [
       "       anime_id                                               name  \\\n",
       "0         32281                                     Kimi no Na wa.   \n",
       "1          5114                   Fullmetal Alchemist: Brotherhood   \n",
       "2         28977                                           Gintama°   \n",
       "3          9253                                        Steins;Gate   \n",
       "4          9969                                      Gintama&#039;   \n",
       "...         ...                                                ...   \n",
       "12289      9316       Toushindai My Lover: Minami tai Mecha-Minami   \n",
       "12290      5543                                        Under World   \n",
       "12291      5621                     Violence Gekiga David no Hoshi   \n",
       "12292      6133  Violence Gekiga Shin David no Hoshi: Inma Dens...   \n",
       "12293     26081                   Yasuji no Pornorama: Yacchimae!!   \n",
       "\n",
       "                                                   genre   type episodes  \\\n",
       "0                   Drama, Romance, School, Supernatural  Movie        1   \n",
       "1      Action, Adventure, Drama, Fantasy, Magic, Mili...     TV       64   \n",
       "2      Action, Comedy, Historical, Parody, Samurai, S...     TV       51   \n",
       "3                                       Sci-Fi, Thriller     TV       24   \n",
       "4      Action, Comedy, Historical, Parody, Samurai, S...     TV       51   \n",
       "...                                                  ...    ...      ...   \n",
       "12289                                             Hentai    OVA        1   \n",
       "12290                                             Hentai    OVA        1   \n",
       "12291                                             Hentai    OVA        4   \n",
       "12292                                             Hentai    OVA        1   \n",
       "12293                                             Hentai  Movie        1   \n",
       "\n",
       "       rating  members  \n",
       "0        9.37   200630  \n",
       "1        9.26   793665  \n",
       "2        9.25   114262  \n",
       "3        9.17   673572  \n",
       "4        9.16   151266  \n",
       "...       ...      ...  \n",
       "12289    4.15      211  \n",
       "12290    4.28      183  \n",
       "12291    4.88      219  \n",
       "12292    4.98      175  \n",
       "12293    5.46      142  \n",
       "\n",
       "[12294 rows x 7 columns]"
      ]
     },
     "execution_count": 7,
     "metadata": {},
     "output_type": "execute_result"
    }
   ],
   "source": [
    "import pandas as pd\n",
    "# Load the anime dataset\n",
    "df = pd.read_csv(\"anime.csv\")\n",
    "df"
   ]
  },
  {
   "cell_type": "code",
   "execution_count": 9,
   "id": "4fd6ac04-cf95-470d-9a6b-49f02ef05e29",
   "metadata": {},
   "outputs": [
    {
     "data": {
      "text/html": [
       "<div>\n",
       "<style scoped>\n",
       "    .dataframe tbody tr th:only-of-type {\n",
       "        vertical-align: middle;\n",
       "    }\n",
       "\n",
       "    .dataframe tbody tr th {\n",
       "        vertical-align: top;\n",
       "    }\n",
       "\n",
       "    .dataframe thead th {\n",
       "        text-align: right;\n",
       "    }\n",
       "</style>\n",
       "<table border=\"1\" class=\"dataframe\">\n",
       "  <thead>\n",
       "    <tr style=\"text-align: right;\">\n",
       "      <th></th>\n",
       "      <th>anime_id</th>\n",
       "      <th>name</th>\n",
       "      <th>genre</th>\n",
       "      <th>type</th>\n",
       "      <th>episodes</th>\n",
       "      <th>rating</th>\n",
       "      <th>members</th>\n",
       "    </tr>\n",
       "  </thead>\n",
       "  <tbody>\n",
       "    <tr>\n",
       "      <th>0</th>\n",
       "      <td>32281</td>\n",
       "      <td>Kimi no Na wa.</td>\n",
       "      <td>Drama, Romance, School, Supernatural</td>\n",
       "      <td>Movie</td>\n",
       "      <td>1</td>\n",
       "      <td>9.37</td>\n",
       "      <td>200630</td>\n",
       "    </tr>\n",
       "    <tr>\n",
       "      <th>1</th>\n",
       "      <td>5114</td>\n",
       "      <td>Fullmetal Alchemist: Brotherhood</td>\n",
       "      <td>Action, Adventure, Drama, Fantasy, Magic, Mili...</td>\n",
       "      <td>TV</td>\n",
       "      <td>64</td>\n",
       "      <td>9.26</td>\n",
       "      <td>793665</td>\n",
       "    </tr>\n",
       "    <tr>\n",
       "      <th>2</th>\n",
       "      <td>28977</td>\n",
       "      <td>Gintama°</td>\n",
       "      <td>Action, Comedy, Historical, Parody, Samurai, S...</td>\n",
       "      <td>TV</td>\n",
       "      <td>51</td>\n",
       "      <td>9.25</td>\n",
       "      <td>114262</td>\n",
       "    </tr>\n",
       "    <tr>\n",
       "      <th>3</th>\n",
       "      <td>9253</td>\n",
       "      <td>Steins;Gate</td>\n",
       "      <td>Sci-Fi, Thriller</td>\n",
       "      <td>TV</td>\n",
       "      <td>24</td>\n",
       "      <td>9.17</td>\n",
       "      <td>673572</td>\n",
       "    </tr>\n",
       "    <tr>\n",
       "      <th>4</th>\n",
       "      <td>9969</td>\n",
       "      <td>Gintama&amp;#039;</td>\n",
       "      <td>Action, Comedy, Historical, Parody, Samurai, S...</td>\n",
       "      <td>TV</td>\n",
       "      <td>51</td>\n",
       "      <td>9.16</td>\n",
       "      <td>151266</td>\n",
       "    </tr>\n",
       "  </tbody>\n",
       "</table>\n",
       "</div>"
      ],
      "text/plain": [
       "   anime_id                              name  \\\n",
       "0     32281                    Kimi no Na wa.   \n",
       "1      5114  Fullmetal Alchemist: Brotherhood   \n",
       "2     28977                          Gintama°   \n",
       "3      9253                       Steins;Gate   \n",
       "4      9969                     Gintama&#039;   \n",
       "\n",
       "                                               genre   type episodes  rating  \\\n",
       "0               Drama, Romance, School, Supernatural  Movie        1    9.37   \n",
       "1  Action, Adventure, Drama, Fantasy, Magic, Mili...     TV       64    9.26   \n",
       "2  Action, Comedy, Historical, Parody, Samurai, S...     TV       51    9.25   \n",
       "3                                   Sci-Fi, Thriller     TV       24    9.17   \n",
       "4  Action, Comedy, Historical, Parody, Samurai, S...     TV       51    9.16   \n",
       "\n",
       "   members  \n",
       "0   200630  \n",
       "1   793665  \n",
       "2   114262  \n",
       "3   673572  \n",
       "4   151266  "
      ]
     },
     "execution_count": 9,
     "metadata": {},
     "output_type": "execute_result"
    }
   ],
   "source": [
    "df.head()"
   ]
  },
  {
   "cell_type": "code",
   "execution_count": 11,
   "id": "ff5a44a0-8aea-4061-9fd0-ed3cf76c442f",
   "metadata": {},
   "outputs": [
    {
     "name": "stdout",
     "output_type": "stream",
     "text": [
      "<class 'pandas.core.frame.DataFrame'>\n",
      "RangeIndex: 12294 entries, 0 to 12293\n",
      "Data columns (total 7 columns):\n",
      " #   Column    Non-Null Count  Dtype  \n",
      "---  ------    --------------  -----  \n",
      " 0   anime_id  12294 non-null  int64  \n",
      " 1   name      12294 non-null  object \n",
      " 2   genre     12232 non-null  object \n",
      " 3   type      12269 non-null  object \n",
      " 4   episodes  12294 non-null  object \n",
      " 5   rating    12064 non-null  float64\n",
      " 6   members   12294 non-null  int64  \n",
      "dtypes: float64(1), int64(2), object(4)\n",
      "memory usage: 672.5+ KB\n"
     ]
    }
   ],
   "source": [
    "df.info()"
   ]
  },
  {
   "cell_type": "code",
   "execution_count": 13,
   "id": "3b6387c9-f5be-4795-bc0c-9b01fd1f2b02",
   "metadata": {},
   "outputs": [
    {
     "name": "stderr",
     "output_type": "stream",
     "text": [
      "C:\\Users\\nimma\\AppData\\Local\\Temp\\ipykernel_10904\\2790489684.py:5: FutureWarning: A value is trying to be set on a copy of a DataFrame or Series through chained assignment using an inplace method.\n",
      "The behavior will change in pandas 3.0. This inplace method will never work because the intermediate object on which we are setting values always behaves as a copy.\n",
      "\n",
      "For example, when doing 'df[col].method(value, inplace=True)', try using 'df.method({col: value}, inplace=True)' or df[col] = df[col].method(value) instead, to perform the operation inplace on the original object.\n",
      "\n",
      "\n",
      "  df['episodes'].fillna(0, inplace=True)\n"
     ]
    }
   ],
   "source": [
    "# Drop rows with missing 'name' or 'rating' since they are important\n",
    "df.dropna(subset=['name', 'rating'], inplace=True)\n",
    "\n",
    "# If 'episodes' has missing values, fill with median or a placeholder like 0\n",
    "df['episodes'].fillna(0, inplace=True)\n",
    "\n",
    "# Reset index after cleanup\n",
    "df.reset_index(drop=True, inplace=True)"
   ]
  },
  {
   "cell_type": "code",
   "execution_count": 15,
   "id": "c81a509e-7ee2-40f8-a30e-6ab545fe72cd",
   "metadata": {},
   "outputs": [
    {
     "name": "stdout",
     "output_type": "stream",
     "text": [
      "type\n",
      "TV         3671\n",
      "OVA        3285\n",
      "Movie      2297\n",
      "Special    1671\n",
      "ONA         652\n",
      "Music       488\n",
      "Name: count, dtype: int64\n"
     ]
    },
    {
     "data": {
      "text/plain": [
       "(           anime_id        rating       members\n",
       " count  12064.000000  12064.000000  1.206400e+04\n",
       " mean   13704.476044      6.473902  1.827952e+04\n",
       " std    11260.369521      1.026746  5.527578e+04\n",
       " min        1.000000      1.670000  1.200000e+01\n",
       " 25%     3409.250000      5.880000  2.210000e+02\n",
       " 50%    10004.000000      6.570000  1.539000e+03\n",
       " 75%    23863.500000      7.180000  9.485500e+03\n",
       " max    34519.000000     10.000000  1.013917e+06,\n",
       " None)"
      ]
     },
     "execution_count": 15,
     "metadata": {},
     "output_type": "execute_result"
    }
   ],
   "source": [
    "df.describe(), print(df['type'].value_counts())"
   ]
  },
  {
   "cell_type": "code",
   "execution_count": 17,
   "id": "5c633bed-67ae-4de9-8368-7b650d36088c",
   "metadata": {},
   "outputs": [
    {
     "name": "stdout",
     "output_type": "stream",
     "text": [
      "0                 Drama, Romance, School, Supernatural\n",
      "1    Action, Adventure, Drama, Fantasy, Magic, Mili...\n",
      "2    Action, Comedy, Historical, Parody, Samurai, S...\n",
      "3                                     Sci-Fi, Thriller\n",
      "4    Action, Comedy, Historical, Parody, Samurai, S...\n",
      "Name: genre, dtype: object\n"
     ]
    }
   ],
   "source": [
    "# Sample genres (if available)\n",
    "if 'genre' in df.columns:\n",
    "    print(df['genre'].head())"
   ]
  },
  {
   "cell_type": "code",
   "execution_count": 19,
   "id": "217fca25-df52-41a9-b295-b647f61ad941",
   "metadata": {},
   "outputs": [],
   "source": [
    "#feature extraction\n",
    "from sklearn.preprocessing import MinMaxScaler\n",
    "# Make a copy to work on\n",
    "df_features = df.copy()"
   ]
  },
  {
   "cell_type": "code",
   "execution_count": 20,
   "id": "41f0c99b-f460-4d0f-b291-ae0e4a68ebfc",
   "metadata": {},
   "outputs": [],
   "source": [
    "# ------- 1. Handle Genres (split + one-hot encode) -------\n",
    "# Split genre strings into lists\n",
    "df_features['genre'] = df_features['genre'].fillna('')  # fill NaNs with empty string\n",
    "df_features['genre_list'] = df_features['genre'].apply(lambda x: [g.strip() for g in x.split(',')] if x else [])"
   ]
  },
  {
   "cell_type": "code",
   "execution_count": 23,
   "id": "5e9dba4a-3a0e-4a36-8664-21308ebdf7ec",
   "metadata": {},
   "outputs": [],
   "source": [
    "# Create one-hot genre features\n",
    "all_genres = sorted(set(g for sublist in df_features['genre_list'] for g in sublist))\n",
    "for genre in all_genres:\n",
    "    df_features[genre] = df_features['genre_list'].apply(lambda x: int(genre in x))"
   ]
  },
  {
   "cell_type": "code",
   "execution_count": 25,
   "id": "014725ba-2f34-47c6-adeb-8bb056d9790e",
   "metadata": {},
   "outputs": [],
   "source": [
    " #------- 2. One-hot encode 'type' (TV, OVA, Movie, etc.) -------\n",
    "df_features['type'] = df_features['type'].fillna('Unknown')\n",
    "type_dummies = pd.get_dummies(df_features['type'], prefix='type')\n",
    "df_features = pd.concat([df_features, type_dummies], axis=1)"
   ]
  },
  {
   "cell_type": "code",
   "execution_count": 27,
   "id": "e5638b47-0ef5-4f25-af26-56ed39072487",
   "metadata": {},
   "outputs": [],
   "source": [
    "# ------- 3. Normalize numeric features -------\n",
    "scaler = MinMaxScaler()"
   ]
  },
  {
   "cell_type": "code",
   "execution_count": 29,
   "id": "5e89ef56-1e4b-43a8-b5e8-3f4eb6c366d9",
   "metadata": {},
   "outputs": [],
   "source": [
    "# Clean episodes column: replace 'Unknown' or invalid with 0\n",
    "df_features['episodes'] = pd.to_numeric(df_features['episodes'], errors='coerce').fillna(0)\n"
   ]
  },
  {
   "cell_type": "code",
   "execution_count": 31,
   "id": "cef2b7c8-1516-41d7-ad59-cd0beb9ff926",
   "metadata": {},
   "outputs": [],
   "source": [
    "# Select numeric columns to normalize\n",
    "numeric_cols = ['rating', 'members', 'episodes']\n",
    "df_features[numeric_cols] = scaler.fit_transform(df_features[numeric_cols])"
   ]
  },
  {
   "cell_type": "code",
   "execution_count": 33,
   "id": "c06afa02-3f93-4ded-98c4-e10afb374e9f",
   "metadata": {},
   "outputs": [
    {
     "name": "stdout",
     "output_type": "stream",
     "text": [
      "Feature matrix shape: (12064, 52)\n",
      "Sample row: [0 0 0 0 0 0 1 0 0 0 0 0 0 0 0 0 0 0 0 0 0 0 0 0 0 1 0 1 0 0 0 0 0 0 0 0 0\n",
      " 0 1 0 0 0 0 True False False False False False 0.9243697478991597\n",
      " 0.1978666640365715 0.00055005500550055]\n"
     ]
    }
   ],
   "source": [
    "# ------- 4. Final feature list -------\n",
    "# Combine all selected features into one matrix\n",
    "feature_columns = all_genres + list(type_dummies.columns) + numeric_cols\n",
    "feature_matrix = df_features[feature_columns].values\n",
    "print(\"Feature matrix shape:\", feature_matrix.shape)\n",
    "print(\"Sample row:\", feature_matrix[0])"
   ]
  },
  {
   "cell_type": "code",
   "execution_count": 35,
   "id": "9c4c7cf0-6310-4af3-b8a8-6c641753778b",
   "metadata": {},
   "outputs": [],
   "source": [
    "from sklearn.metrics.pairwise import cosine_similarity\n",
    "\n",
    "similarity_matrix = cosine_similarity(feature_matrix)\n",
    "def recommend_anime(anime_name, top_n=5, threshold=0.0):\n",
    "    # Check if anime_name exists in the dataset\n",
    "    if anime_name not in df_features['name'].values:\n",
    "        raise ValueError(f\"Anime '{anime_name}' not found in dataset.\")\n",
    "\n",
    "    # Get the index of the anime\n",
    "    idx = df_features[df_features['name'] == anime_name].index[0]\n",
    "\n",
    "    # Get similarity scores for the target anime\n",
    "    similarity_scores = similarity_matrix[idx]\n",
    "\n",
    "    # Get indices of anime with similarity above the threshold, excluding itself\n",
    "    similar_indices = [\n",
    "        i for i, score in enumerate(similarity_scores)\n",
    "        if score >= threshold and i != idx\n",
    "    ]\n",
    "\n",
    "    # Sort indices by similarity score (descending)\n",
    "    sorted_indices = sorted(similar_indices, key=lambda i: similarity_scores[i], reverse=True)\n",
    "\n",
    "    # Get top N recommendations\n",
    "    recommendations = [\n",
    "        (df_features.iloc[i]['name'], round(similarity_scores[i], 3))\n",
    "        for i in sorted_indices[:top_n]\n",
    "    ]\n",
    "\n",
    "    return recommendations"
   ]
  },
  {
   "cell_type": "code",
   "execution_count": 36,
   "id": "b3540e02-5f44-40d9-b966-cf7633e420a8",
   "metadata": {},
   "outputs": [
    {
     "name": "stdout",
     "output_type": "stream",
     "text": [
      "Naruto: Shippuuden: similarity 0.997\n",
      "Katekyo Hitman Reborn!: similarity 0.912\n",
      "Dragon Ball Z: similarity 0.873\n",
      "Bleach: similarity 0.856\n",
      "Dragon Ball Kai: similarity 0.856\n",
      "\n",
      "Threshold: 0.0\n",
      "  - Naruto: Shippuuden (0.997)\n",
      "  - Katekyo Hitman Reborn! (0.912)\n",
      "  - Dragon Ball Z (0.873)\n",
      "  - Bleach (0.856)\n",
      "  - Dragon Ball Kai (0.856)\n",
      "\n",
      "Threshold: 0.2\n",
      "  - Naruto: Shippuuden (0.997)\n",
      "  - Katekyo Hitman Reborn! (0.912)\n",
      "  - Dragon Ball Z (0.873)\n",
      "  - Bleach (0.856)\n",
      "  - Dragon Ball Kai (0.856)\n",
      "\n",
      "Threshold: 0.4\n",
      "  - Naruto: Shippuuden (0.997)\n",
      "  - Katekyo Hitman Reborn! (0.912)\n",
      "  - Dragon Ball Z (0.873)\n",
      "  - Bleach (0.856)\n",
      "  - Dragon Ball Kai (0.856)\n",
      "\n",
      "Threshold: 0.6\n",
      "  - Naruto: Shippuuden (0.997)\n",
      "  - Katekyo Hitman Reborn! (0.912)\n",
      "  - Dragon Ball Z (0.873)\n",
      "  - Bleach (0.856)\n",
      "  - Dragon Ball Kai (0.856)\n"
     ]
    }
   ],
   "source": [
    "recommendations = recommend_anime(\"Naruto\", top_n=5, threshold=0.3)\n",
    "for title, score in recommendations:\n",
    "    print(f\"{title}: similarity {score}\")\n",
    "thresholds = [0.0, 0.2, 0.4, 0.6]\n",
    "for t in thresholds:\n",
    "    recs = recommend_anime(\"Naruto\", top_n=5, threshold=t)\n",
    "    print(f\"\\nThreshold: {t}\")\n",
    "    for title, score in recs:\n",
    "        print(f\"  - {title} ({score})\")"
   ]
  },
  {
   "cell_type": "code",
   "execution_count": 39,
   "id": "21cf9694-9800-4fbc-912c-f56281294de4",
   "metadata": {},
   "outputs": [],
   "source": [
    "#split the data\n",
    "from sklearn.model_selection import train_test_split\n",
    "\n",
    "# Use 80% for training similarity, 20% for evaluation\n",
    "train_df, test_df = train_test_split(df_features, test_size=0.2, random_state=42)\n",
    "\n",
    "# Recompute the feature matrix and similarity on training data\n",
    "train_feature_matrix = train_df[feature_columns].values\n",
    "similarity_matrix_train = cosine_similarity(train_feature_matrix)\n"
   ]
  },
  {
   "cell_type": "code",
   "execution_count": 41,
   "id": "257ce5e1-f874-4ac4-8f03-fd8d4d94de73",
   "metadata": {},
   "outputs": [],
   "source": [
    "genre_columns = [\n",
    "    'Action', 'Adventure', 'Cars', 'Comedy', 'Dementia', 'Demons', 'Drama',\n",
    "    'Ecchi', 'Fantasy', 'Game', 'Harem', 'Hentai', 'Historical', 'Horror',\n",
    "    'Josei', 'Kids', 'Magic', 'Martial Arts', 'Mecha', 'Military', 'Music',\n",
    "    'Mystery', 'Parody', 'Police', 'Psychological', 'Romance', 'Samurai',\n",
    "    'School', 'Sci-Fi', 'Seinen', 'Shoujo', 'Shoujo Ai', 'Shounen',\n",
    "    'Shounen Ai', 'Slice of Life', 'Space', 'Sports', 'Super Power',\n",
    "    'Supernatural', 'Thriller', 'Vampire', 'Yaoi', 'Yuri'\n",
    "]"
   ]
  },
  {
   "cell_type": "code",
   "execution_count": 43,
   "id": "bddcaa69-2382-425a-b62e-0e565b46f1fb",
   "metadata": {},
   "outputs": [],
   "source": [
    "from sklearn.metrics import precision_score, recall_score, f1_score\n",
    "import numpy as np\n",
    "\n",
    "def evaluate_recommender(test_df, train_df, similarity_matrix, top_n=5, threshold=0.3):\n",
    "    genre_columns = ['Action', 'Adventure', 'Cars', 'Comedy', 'Dementia', 'Demons', 'Drama',\n",
    "    'Ecchi', 'Fantasy', 'Game', 'Harem', 'Hentai', 'Historical', 'Horror',\n",
    "    'Josei', 'Kids', 'Magic', 'Martial Arts', 'Mecha', 'Military', 'Music',\n",
    "    'Mystery', 'Parody', 'Police', 'Psychological', 'Romance', 'Samurai',\n",
    "    'School', 'Sci-Fi', 'Seinen', 'Shoujo', 'Shoujo Ai', 'Shounen',\n",
    "    'Shounen Ai', 'Slice of Life', 'Space', 'Sports', 'Super Power',\n",
    "    'Supernatural', 'Thriller', 'Vampire', 'Yaoi', 'Yuri'\n",
    "]  \n",
    "    precisions, recalls, f1s = [], [], []\n",
    "\n",
    "    for _, row in test_df.iterrows():\n",
    "        name = row['name']\n",
    "        if name not in train_df['name'].values or row[genre_columns].sum() == 0:\n",
    "            continue\n",
    "        try:\n",
    "            target = row[genre_columns]\n",
    "            train_df['relevant'] = train_df[genre_columns].apply(lambda x: (target & x).sum() >= 2, axis=1)\n",
    "            true = train_df['relevant'].astype(int).values\n",
    "\n",
    "            idx = train_df[train_df['name'] == name].index[0]\n",
    "            sim_scores = similarity_matrix[train_df.index.get_loc(idx)]\n",
    "            top_idxs = sorted([i for i, s in enumerate(sim_scores) if i != idx and s >= threshold], key=lambda i: sim_scores[i], reverse=True)[:top_n]\n",
    "            pred = train_df['name'].isin(train_df.iloc[top_idxs]['name']).astype(int).values\n",
    "\n",
    "            precisions.append(precision_score(true, pred, zero_division=0))\n",
    "            recalls.append(recall_score(true, pred, zero_division=0))\n",
    "            f1s.append(f1_score(true, pred, zero_division=0))\n",
    "        except:\n",
    "            continue\n",
    "\n",
    "    return np.mean(precisions), np.mean(recalls), np.mean(f1s) if precisions else (0.0, 0.0, 0.0)"
   ]
  },
  {
   "cell_type": "code",
   "execution_count": 45,
   "id": "2796738e-fb59-4b42-84ab-bcb01b6ffacf",
   "metadata": {},
   "outputs": [
    {
     "name": "stdout",
     "output_type": "stream",
     "text": [
      "Precision: 0.20\n",
      "Recall:    0.00\n",
      "F1 Score:  0.01\n"
     ]
    }
   ],
   "source": [
    "precision, recall, f1 = evaluate_recommender(\n",
    "    test_df=test_df,\n",
    "    train_df=train_df,\n",
    "    similarity_matrix=similarity_matrix_train,\n",
    "    top_n=5,\n",
    "    threshold=0.7\n",
    ")\n",
    "\n",
    "print(f\"Precision: {precision:.2f}\")\n",
    "print(f\"Recall:    {recall:.2f}\")\n",
    "print(f\"F1 Score:  {f1:.2f}\")"
   ]
  },
  {
   "cell_type": "code",
   "execution_count": 47,
   "id": "d241c2f7-c7da-45bc-ae0d-7fba403a8749",
   "metadata": {},
   "outputs": [
    {
     "name": "stdout",
     "output_type": "stream",
     "text": [
      "Threshold: 0.1 → Precision: 0.15, Recall: 0.01, F1: 0.01\n",
      "Threshold: 0.2 → Precision: 0.15, Recall: 0.01, F1: 0.01\n",
      "Threshold: 0.3 → Precision: 0.15, Recall: 0.01, F1: 0.01\n"
     ]
    }
   ],
   "source": [
    "for t in [0.1, 0.2, 0.3]:\n",
    "    precision, recall, f1 = evaluate_recommender(\n",
    "        test_df=test_df,\n",
    "        train_df=train_df,\n",
    "        similarity_matrix=similarity_matrix_train,\n",
    "        top_n=10,\n",
    "        threshold=t\n",
    "    )\n",
    "    print(f\"Threshold: {t} → Precision: {precision:.2f}, Recall: {recall:.2f}, F1: {f1:.2f}\")"
   ]
  },
  {
   "cell_type": "code",
   "execution_count": 48,
   "id": "836f7e72-1a61-4d5c-8c20-092cd95dc16d",
   "metadata": {},
   "outputs": [
    {
     "name": "stdout",
     "output_type": "stream",
     "text": [
      "Top N: 5, Threshold: 0.1 → Precision: 0.20, Recall: 0.00, F1: 0.01\n",
      "Top N: 5, Threshold: 0.2 → Precision: 0.20, Recall: 0.00, F1: 0.01\n",
      "Top N: 5, Threshold: 0.3 → Precision: 0.20, Recall: 0.00, F1: 0.01\n",
      "Top N: 10, Threshold: 0.1 → Precision: 0.15, Recall: 0.01, F1: 0.01\n",
      "Top N: 10, Threshold: 0.2 → Precision: 0.15, Recall: 0.01, F1: 0.01\n",
      "Top N: 10, Threshold: 0.3 → Precision: 0.15, Recall: 0.01, F1: 0.01\n",
      "Top N: 15, Threshold: 0.1 → Precision: 0.10, Recall: 0.01, F1: 0.01\n",
      "Top N: 15, Threshold: 0.2 → Precision: 0.10, Recall: 0.01, F1: 0.01\n",
      "Top N: 15, Threshold: 0.3 → Precision: 0.10, Recall: 0.01, F1: 0.01\n"
     ]
    }
   ],
   "source": [
    "for top_n in [5, 10, 15]:\n",
    "    for threshold in [0.1, 0.2, 0.3]:\n",
    "        precision, recall, f1 = evaluate_recommender(\n",
    "            test_df=test_df,\n",
    "            train_df=train_df,\n",
    "            similarity_matrix=similarity_matrix_train,\n",
    "            top_n=top_n,\n",
    "            threshold=threshold\n",
    "        )\n",
    "        print(f\"Top N: {top_n}, Threshold: {threshold:.1f} → Precision: {precision:.2f}, Recall: {recall:.2f}, F1: {f1:.2f}\")"
   ]
  },
  {
   "cell_type": "code",
   "execution_count": 49,
   "id": "5e2feaeb-ee2a-49bb-b3ed-7aed21162cad",
   "metadata": {},
   "outputs": [
    {
     "name": "stdout",
     "output_type": "stream",
     "text": [
      "Collaborative filtering is a recommendation technique that predicts user preferences based on the preferences of similar users or items.\n",
      "It leverages the 'wisdom of the crowd' – if users A and B have similar tastes in the past, then A is likely to enjoy what B liked recently.\n",
      "\n",
      "There are two main types:\n",
      "\n",
      "1. User-based Collaborative Filtering:\n",
      "   - Finds users with similar tastes to a target user.  The system identifies users with similar rating patterns for items they've both interacted with (e.g., movies, products).\n",
      "   - Predicts ratings for items based on the ratings of similar users.  It aggregates the ratings of those similar users for items the target user hasn't yet rated, providing a prediction of how the target user might rate them.\n",
      "   - Pros: Relatively simple to implement.\n",
      "   - Cons: Can suffer from scalability issues as the user base grows (comparing a user to every other user becomes computationally expensive). Susceptible to popularity bias (over-recommending popular items because many similar users have interacted with them).  Also suffers from the 'cold start' problem for new users with limited interaction history.\n",
      "\n",
      "2. Item-based Collaborative Filtering:\n",
      "   - Finds items similar to items a target user has liked. It identifies items that are frequently rated similarly by users.\n",
      "   - Predicts ratings for new items based on how similar items have been rated.  If a user liked item A, and item B is similar to A (based on how other users rated them), the system predicts the user will also like item B.\n",
      "   - Pros: More scalable compared to user-based filtering (item similarity is relatively static). Less susceptible to changes in user behavior (user profiles can change, but item similarity is more stable).\n",
      "   - Cons: Might not capture diverse user preferences as well as user-based (doesn't consider individual user nuances as much). Also suffers from the 'cold start' problem for new items with limited interaction history.\n"
     ]
    }
   ],
   "source": [
    "#Interview Questions:\n",
    "# 1. Can you explain the difference between user-based and item-based collaborative filtering?\n",
    "\n",
    "def explain_collaborative_filtering():\n",
    "    \"\"\"Explains collaborative filtering and its types.\"\"\"\n",
    "    print(\"Collaborative filtering is a recommendation technique that predicts user preferences based on the preferences of similar users or items.\")\n",
    "    print(\"It leverages the 'wisdom of the crowd' – if users A and B have similar tastes in the past, then A is likely to enjoy what B liked recently.\")\n",
    "    print(\"\\nThere are two main types:\")\n",
    "    print(\"\\n1. User-based Collaborative Filtering:\")\n",
    "    print(\"   - Finds users with similar tastes to a target user.  The system identifies users with similar rating patterns for items they've both interacted with (e.g., movies, products).\")\n",
    "    print(\"   - Predicts ratings for items based on the ratings of similar users.  It aggregates the ratings of those similar users for items the target user hasn't yet rated, providing a prediction of how the target user might rate them.\")\n",
    "    print(\"   - Pros: Relatively simple to implement.\")\n",
    "    print(\"   - Cons: Can suffer from scalability issues as the user base grows (comparing a user to every other user becomes computationally expensive). Susceptible to popularity bias (over-recommending popular items because many similar users have interacted with them).  Also suffers from the 'cold start' problem for new users with limited interaction history.\")\n",
    "\n",
    "    print(\"\\n2. Item-based Collaborative Filtering:\")\n",
    "    print(\"   - Finds items similar to items a target user has liked. It identifies items that are frequently rated similarly by users.\")\n",
    "    print(\"   - Predicts ratings for new items based on how similar items have been rated.  If a user liked item A, and item B is similar to A (based on how other users rated them), the system predicts the user will also like item B.\")\n",
    "    print(\"   - Pros: More scalable compared to user-based filtering (item similarity is relatively static). Less susceptible to changes in user behavior (user profiles can change, but item similarity is more stable).\")\n",
    "    print(\"   - Cons: Might not capture diverse user preferences as well as user-based (doesn't consider individual user nuances as much). Also suffers from the 'cold start' problem for new items with limited interaction history.\")\n",
    "\n",
    "def answer_interview_questions():\n",
    "    explain_collaborative_filtering()\n",
    "    \n",
    "\n",
    "answer_interview_questions()"
   ]
  },
  {
   "cell_type": "code",
   "execution_count": 53,
   "id": "82f8d8bf-bafc-4463-8d14-191c2cd12718",
   "metadata": {},
   "outputs": [],
   "source": [
    "#  2. What is collaborative filtering, and how does it work?\n",
    "\n",
    "def explain_collaborative_filtering():\n",
    "    \"\"\"Explains collaborative filtering and its types.\"\"\"\n",
    "    print(\"Collaborative filtering is a recommendation technique that predicts user preferences based on the preferences of similar users or items.\")\n",
    "    print(\"It leverages the 'wisdom of the crowd' – if users A and B have similar tastes in the past, then A is likely to enjoy what B liked recently.\")\n",
    "    print(\"\\nThere are two main types:\")\n",
    "    print(\"\\n1. User-based Collaborative Filtering:\")\n",
    "    print(\"   - Finds users with similar tastes to a target user.  The system identifies users with similar rating patterns for items they've both interacted with (e.g., movies, products).\")\n",
    "    print(\"   - Predicts ratings for items based on the ratings of similar users.  It aggregates the ratings of those similar users for items the target user hasn't yet rated, providing a prediction of how the target user might rate them.\")\n",
    "    print(\"   - Pros: Relatively simple to implement.\")\n",
    "    print(\"   - Cons: Can suffer from scalability issues as the user base grows (comparing a user to every other user becomes computationally expensive). Susceptible to popularity bias (over-recommending popular items because many similar users have interacted with them).  Also suffers from the 'cold start' problem for new users with limited interaction history.\")\n",
    "\n",
    "    print(\"\\n2. Item-based Collaborative Filtering:\")\n",
    "    print(\"   - Finds items similar to items a target user has liked. It identifies items that are frequently rated similarly by users.\")\n",
    "    print(\"   - Predicts ratings for new items based on how similar items have been rated.  If a user liked item A, and item B is similar to A (based on how other users rated them), the system predicts the user will also like item B.\")\n",
    "    print(\"   - Pros: More scalable compared to user-based filtering (item similarity is relatively static). Less susceptible to changes in user behavior (user profiles can change, but item similarity is more stable).\")\n",
    "    print(\"   - Cons: Might not capture diverse user preferences as well as user-based (doesn't consider individual user nuances as much). Also suffers from the 'cold start' problem for new items with limited interaction history.\")"
   ]
  },
  {
   "cell_type": "code",
   "execution_count": 55,
   "id": "ec949af2-6baf-49b9-8d03-f6e3e1db75b3",
   "metadata": {},
   "outputs": [
    {
     "name": "stdout",
     "output_type": "stream",
     "text": [
      "Collaborative filtering is a recommendation technique that predicts user preferences based on the preferences of similar users or items.\n",
      "It leverages the 'wisdom of the crowd' – if users A and B have similar tastes in the past, then A is likely to enjoy what B liked recently.\n",
      "\n",
      "There are two main types:\n",
      "\n",
      "1. User-based Collaborative Filtering:\n",
      "   - Finds users with similar tastes to a target user.  The system identifies users with similar rating patterns for items they've both interacted with (e.g., movies, products).\n",
      "   - Predicts ratings for items based on the ratings of similar users.  It aggregates the ratings of those similar users for items the target user hasn't yet rated, providing a prediction of how the target user might rate them.\n",
      "   - Pros: Relatively simple to implement.\n",
      "   - Cons: Can suffer from scalability issues as the user base grows (comparing a user to every other user becomes computationally expensive). Susceptible to popularity bias (over-recommending popular items because many similar users have interacted with them).  Also suffers from the 'cold start' problem for new users with limited interaction history.\n",
      "\n",
      "2. Item-based Collaborative Filtering:\n",
      "   - Finds items similar to items a target user has liked. It identifies items that are frequently rated similarly by users.\n",
      "   - Predicts ratings for new items based on how similar items have been rated.  If a user liked item A, and item B is similar to A (based on how other users rated them), the system predicts the user will also like item B.\n",
      "   - Pros: More scalable compared to user-based filtering (item similarity is relatively static). Less susceptible to changes in user behavior (user profiles can change, but item similarity is more stable).\n",
      "   - Cons: Might not capture diverse user preferences as well as user-based (doesn't consider individual user nuances as much). Also suffers from the 'cold start' problem for new items with limited interaction history.\n"
     ]
    }
   ],
   "source": [
    "# p2. What is collaborative filtering, and how does it work?\n",
    "\n",
    "def explain_collaborative_filtering():\n",
    "    \"\"\"Explains collaborative filtering and its types.\"\"\"\n",
    "    print(\"Collaborative filtering is a recommendation technique that predicts user preferences based on the preferences of similar users or items.\")\n",
    "    print(\"It leverages the 'wisdom of the crowd' – if users A and B have similar tastes in the past, then A is likely to enjoy what B liked recently.\")\n",
    "    print(\"\\nThere are two main types:\")\n",
    "    print(\"\\n1. User-based Collaborative Filtering:\")\n",
    "    print(\"   - Finds users with similar tastes to a target user.  The system identifies users with similar rating patterns for items they've both interacted with (e.g., movies, products).\")\n",
    "    print(\"   - Predicts ratings for items based on the ratings of similar users.  It aggregates the ratings of those similar users for items the target user hasn't yet rated, providing a prediction of how the target user might rate them.\")\n",
    "    print(\"   - Pros: Relatively simple to implement.\")\n",
    "    print(\"   - Cons: Can suffer from scalability issues as the user base grows (comparing a user to every other user becomes computationally expensive). Susceptible to popularity bias (over-recommending popular items because many similar users have interacted with them).  Also suffers from the 'cold start' problem for new users with limited interaction history.\")\n",
    "\n",
    "    print(\"\\n2. Item-based Collaborative Filtering:\")\n",
    "    print(\"   - Finds items similar to items a target user has liked. It identifies items that are frequently rated similarly by users.\")\n",
    "    print(\"   - Predicts ratings for new items based on how similar items have been rated.  If a user liked item A, and item B is similar to A (based on how other users rated them), the system predicts the user will also like item B.\")\n",
    "    print(\"   - Pros: More scalable compared to user-based filtering (item similarity is relatively static). Less susceptible to changes in user behavior (user profiles can change, but item similarity is more stable).\")\n",
    "    print(\"   - Cons: Might not capture diverse user preferences as well as user-based (doesn't consider individual user nuances as much). Also suffers from the 'cold start' problem for new items with limited interaction history.\")\n",
    "\n",
    "def answer_interview_questions():\n",
    "    explain_collaborative_filtering()\n",
    "    \n",
    "\n",
    "answer_interview_questions()"
   ]
  }
 ],
 "metadata": {
  "kernelspec": {
   "display_name": "Python 3 (ipykernel)",
   "language": "python",
   "name": "python3"
  },
  "language_info": {
   "codemirror_mode": {
    "name": "ipython",
    "version": 3
   },
   "file_extension": ".py",
   "mimetype": "text/x-python",
   "name": "python",
   "nbconvert_exporter": "python",
   "pygments_lexer": "ipython3",
   "version": "3.12.7"
  }
 },
 "nbformat": 4,
 "nbformat_minor": 5
}
